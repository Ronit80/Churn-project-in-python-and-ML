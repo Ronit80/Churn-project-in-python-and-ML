{
  "cells": [
    {
      "cell_type": "markdown",
      "metadata": {
        "id": "QIZDf80k-ApV"
      },
      "source": [
        "# churn_location_and_rating.ipynb"
      ]
    },
    {
      "cell_type": "markdown",
      "metadata": {
        "id": "f6_D-G1fOJdP"
      },
      "source": [
        "## First, install the enviorment"
      ]
    },
    {
      "cell_type": "code",
      "execution_count": 1,
      "metadata": {
        "colab": {
          "base_uri": "https://localhost:8080/"
        },
        "id": "0wO-c-1B-Gfc",
        "outputId": "353ffc25-f553-448e-81a2-a18b6da06322"
      },
      "outputs": [
        {
          "output_type": "stream",
          "name": "stdout",
          "text": [
            "\u001b[33m\r0% [Working]\u001b[0m\r            \rGet:1 https://cloud.r-project.org/bin/linux/ubuntu jammy-cran40/ InRelease [3,626 B]\n",
            "Get:2 http://security.ubuntu.com/ubuntu jammy-security InRelease [129 kB]\n",
            "Hit:3 https://developer.download.nvidia.com/compute/cuda/repos/ubuntu2204/x86_64  InRelease\n",
            "Hit:4 http://archive.ubuntu.com/ubuntu jammy InRelease\n",
            "Get:5 http://archive.ubuntu.com/ubuntu jammy-updates InRelease [128 kB]\n",
            "Get:6 http://archive.ubuntu.com/ubuntu jammy-backports InRelease [127 kB]\n",
            "Hit:7 https://ppa.launchpadcontent.net/c2d4u.team/c2d4u4.0+/ubuntu jammy InRelease\n",
            "Hit:8 https://ppa.launchpadcontent.net/deadsnakes/ppa/ubuntu jammy InRelease\n",
            "Get:9 https://ppa.launchpadcontent.net/graphics-drivers/ppa/ubuntu jammy InRelease [24.3 kB]\n",
            "Hit:10 https://ppa.launchpadcontent.net/ubuntugis/ppa/ubuntu jammy InRelease\n",
            "Get:11 http://security.ubuntu.com/ubuntu jammy-security/main amd64 Packages [1,858 kB]\n",
            "Get:12 http://security.ubuntu.com/ubuntu jammy-security/universe amd64 Packages [1,084 kB]\n",
            "Get:13 http://archive.ubuntu.com/ubuntu jammy-updates/main amd64 Packages [2,129 kB]\n",
            "Get:14 http://archive.ubuntu.com/ubuntu jammy-updates/universe amd64 Packages [1,377 kB]\n",
            "Get:15 https://ppa.launchpadcontent.net/graphics-drivers/ppa/ubuntu jammy/main amd64 Packages [47.6 kB]\n",
            "Fetched 6,907 kB in 4s (1,841 kB/s)\n",
            "Reading package lists... Done\n",
            "Building dependency tree... Done\n",
            "Reading state information... Done\n",
            "51 packages can be upgraded. Run 'apt list --upgradable' to see them.\n"
          ]
        }
      ],
      "source": [
        "# 1) First: install Java, Spark and and run a local Spark session by just running this on Google Colab:\n",
        "!apt update\n",
        "!apt-get install openjdk-8-jdk-headless -qq > /dev/null   # !apt-get --> install java\n",
        "#!wget -q https://dlcdn.apache.org/spark/spark-3.3.4/spark-3.3.4-bin-hadoop3.tgz\n",
        "!wget -q https://dlcdn.apache.org/spark/spark-3.5.1/spark-3.5.1-bin-hadoop3.tgz\n",
        "!tar xf spark-3.5.1-bin-hadoop3.tgz  # !tar --> like unzip\n",
        "!pip install -q findspark  # !pip  --> instal a package, we cant import a library without installing it first, most libraries that we used were already installed\n",
        "# This are INSTALLATION COMMANDS IN LINUX that we run in our collab space, it's similar to downloading programs an installing them on our computers\n",
        "# installs Apache Spark 3.1.2, Java 8, and Findspark, a library that makes it easy for Python to find Spark\n",
        "\n",
        "\n",
        "# 2) Second: set the locations where Spark and Java are installed to let know Colab where to find it.\n",
        "import os\n",
        "os.environ[\"JAVA_HOME\"] = \"/usr/lib/jvm/java-8-openjdk-amd64\"\n",
        "os.environ[\"SPARK_HOME\"] = \"/content/spark-3.5.1-bin-hadoop3\"\n",
        "\n",
        "\n",
        "# 3) Third: import spark libraries and use them\n",
        "import findspark\n",
        "findspark.init(\"spark-3.5.1-bin-hadoop3\") # SPARK_HOME\n",
        "from pyspark.sql import SparkSession\n",
        "# Create the session - We need to remember to close it at the end\n",
        "# The session is basically our connection to Spark layer in the Hadoop ecosystem\n",
        "spark = SparkSession.builder.master(\"local[*]\").getOrCreate()\n",
        "from pyspark.sql import Row\n",
        "from pyspark.sql import functions\n"
      ]
    },
    {
      "cell_type": "markdown",
      "metadata": {
        "id": "d5MrEsYuW_pq"
      },
      "source": [
        "<br>\n",
        "<br>\n",
        "<hr class=\"dashed\">\n",
        "<br>\n",
        "<br>"
      ]
    },
    {
      "cell_type": "markdown",
      "metadata": {
        "id": "QKoQ8ve5Pe5V"
      },
      "source": [
        "## Establishing connection between \"Colab\" to \"Google Drive\""
      ]
    },
    {
      "cell_type": "code",
      "execution_count": 2,
      "metadata": {
        "colab": {
          "base_uri": "https://localhost:8080/"
        },
        "collapsed": true,
        "id": "tofA5PDGqKo4",
        "outputId": "810e1dc2-0d3c-4761-fe03-d9bb2075c423"
      },
      "outputs": [
        {
          "output_type": "stream",
          "name": "stdout",
          "text": [
            "Mounted at /content/drive\n"
          ]
        }
      ],
      "source": [
        "# Code for connecting our google drive to this collab notebook\n",
        "from google.colab import drive\n",
        "drive.mount('/content/drive')\n",
        "\n",
        "# After you finish, look at the menu (gui to the left) and check under \"files\" that your \"drive\" folder was added."
      ]
    },
    {
      "cell_type": "code",
      "execution_count": 3,
      "metadata": {
        "colab": {
          "base_uri": "https://localhost:8080/"
        },
        "collapsed": true,
        "id": "-_ucuaSJPR_F",
        "outputId": "d9c4250e-043a-4524-d858-1090c16bb0f7"
      },
      "outputs": [
        {
          "output_type": "stream",
          "name": "stdout",
          "text": [
            " appl_stock.csv\n",
            " churn_location_and_rating.csv\n",
            " churn_location_and_rating.ipynb\n",
            " churn_location_and_rating_new.ipynb\n",
            " County_Rating.csv\n",
            " NORTHWND_csv\n",
            " part-00000-d3719948-a574-419c-a00e-0933af18e86b-c000.csv\n",
            "'part C'\n",
            " people.json\n",
            "'PySpark UDF with PyCountry Example.ipynb'\n",
            " sales_info.csv\n",
            "'spark streaming'\n",
            " walmart_stock.csv\n"
          ]
        }
      ],
      "source": [
        "path = \"/content/drive/MyDrive/BDA RONIT/My_Spark_Ronit\"\n",
        "!ls \"/content/drive/MyDrive/BDA RONIT/My_Spark_Ronit\"  # Check what files we have in the path\n"
      ]
    },
    {
      "cell_type": "markdown",
      "metadata": {
        "id": "gC0AQsrsXauU"
      },
      "source": [
        "<br>\n",
        "<br>\n",
        "<hr class=\"dashed\">\n",
        "<br>\n",
        "<br>"
      ]
    },
    {
      "cell_type": "markdown",
      "metadata": {
        "id": "4BjNxOKRX4su"
      },
      "source": [
        "## Import necessary ibraries"
      ]
    },
    {
      "cell_type": "code",
      "execution_count": 4,
      "metadata": {
        "colab": {
          "base_uri": "https://localhost:8080/"
        },
        "id": "X5XnwhpVX4su",
        "outputId": "4e1483e4-f9dd-4094-9538-6420044134d1"
      },
      "outputs": [
        {
          "output_type": "stream",
          "name": "stdout",
          "text": [
            "Collecting pycountry\n",
            "  Downloading pycountry-24.6.1-py3-none-any.whl (6.3 MB)\n",
            "\u001b[2K     \u001b[90m━━━━━━━━━━━━━━━━━━━━━━━━━━━━━━━━━━━━━━━━\u001b[0m \u001b[32m6.3/6.3 MB\u001b[0m \u001b[31m15.7 MB/s\u001b[0m eta \u001b[36m0:00:00\u001b[0m\n",
            "\u001b[?25hInstalling collected packages: pycountry\n",
            "Successfully installed pycountry-24.6.1\n"
          ]
        }
      ],
      "source": [
        "from pyspark.sql.types import (StructField, IntegerType,\n",
        "                               StringType, StructType)\n",
        "from pyspark.sql.functions import when\n",
        "from pyspark.sql.functions import countDistinct, avg\n",
        "from pyspark.sql.functions import format_number\n",
        "from pyspark.sql.functions import split, regexp_replace\n",
        "from pyspark.sql.functions import concat,col\n",
        "import re\n",
        "from pyspark.sql.functions import udf\n",
        "!pip install pycountry\n",
        "import pycountry\n",
        "from pyspark.sql import Row\n",
        "from pyspark.sql import functions\n",
        "\n",
        "\n",
        "\n"
      ]
    },
    {
      "cell_type": "markdown",
      "metadata": {
        "id": "A6iO6lKeX6_2"
      },
      "source": [
        "<br>\n",
        "<br>\n",
        "<hr class=\"dashed\">\n",
        "<br>\n",
        "<br>"
      ]
    },
    {
      "cell_type": "markdown",
      "metadata": {
        "id": "R2oClnGGeHNK"
      },
      "source": [
        "## Load the necessary tables from the csv files to Spark DataFtrame"
      ]
    },
    {
      "cell_type": "code",
      "execution_count": 5,
      "metadata": {
        "id": "ukSdUFP8mISa"
      },
      "outputs": [],
      "source": [
        "datapath = path + '/churn_location_and_rating.csv'\n",
        "\n",
        "df_emp = spark.read.csv(datapath,header=True,inferSchema=True)"
      ]
    },
    {
      "cell_type": "code",
      "execution_count": 6,
      "metadata": {
        "id": "M2hCoXNt6JVo"
      },
      "outputs": [],
      "source": [
        "def clean_text(text):\n",
        "    return re.sub(r'[^A-Za-z ]+', '', text).strip().lower()\n",
        "\n",
        "clean_text_udf = udf(lambda x:clean_text(x), StringType())"
      ]
    },
    {
      "cell_type": "code",
      "execution_count": 7,
      "metadata": {
        "id": "Mjct9uv91ymX"
      },
      "outputs": [],
      "source": [
        "df_emp = df_emp.withColumn('CustomerID', split(df_emp['customerID;Location;Rating'], ';').getItem(0)) \\\n",
        "               .withColumn('City', split(df_emp['customerID;Location;Rating'], ';').getItem(1)) \\\n",
        "               .withColumn('State', split(df_emp['customerID;Location;Rating'], ';').getItem(2)) \\\n",
        "               .withColumn('Rating', split(df_emp['customerID;Location;Rating'], ';').getItem(3)) \\\n",
        "               .withColumn('Country', split(df_emp['customerID;Location;Rating'], ';').getItem(4))\n",
        "\n",
        "df_emp = df_emp.drop('customerID;Location;Rating')"
      ]
    },
    {
      "cell_type": "code",
      "execution_count": 8,
      "metadata": {
        "colab": {
          "base_uri": "https://localhost:8080/"
        },
        "id": "QIUTgs8VSSbq",
        "outputId": "f2400c46-3898-45be-9d39-bfd50786b577"
      },
      "outputs": [
        {
          "output_type": "stream",
          "name": "stdout",
          "text": [
            "The dataset contains 24858 customers without duplicate\n"
          ]
        }
      ],
      "source": [
        "df_emp.count()\n",
        "df_emp.dropDuplicates().count()\n",
        "print(f'The dataset contains {df_emp.count()} customers without duplicate')"
      ]
    },
    {
      "cell_type": "code",
      "execution_count": 9,
      "metadata": {
        "colab": {
          "base_uri": "https://localhost:8080/"
        },
        "id": "FJ671GLtRCXZ",
        "outputId": "45884e09-6843-4e8c-e32a-15be6fc7746a"
      },
      "outputs": [
        {
          "output_type": "stream",
          "name": "stdout",
          "text": [
            "City there is 41 rows with string n/a and 9 rows with empty string\n",
            "State there is 1339 rows with string n/a and 0 rows with empty string\n",
            "Country there is 4 rows with string n/a and 7 rows with empty string\n"
          ]
        }
      ],
      "source": [
        "column=['City','State','Country' ]\n",
        "for c in column:\n",
        "  x=df_emp.where(df_emp[c].contains('n/a')).count()\n",
        "  y=df_emp.where(df_emp[c]=='').count()\n",
        "  df_emp = df_emp.withColumn(c, regexp_replace(col(c), 'n/a', ''))\n",
        "  df_emp=df_emp.withColumn(c,clean_text_udf(col(c)))\n",
        "  df_emp = df_emp.withColumn(c, regexp_replace(col(c), '\"', ''))\n",
        "  df_emp = df_emp.withColumn(c, when(col(c) == '', 'Unknown').otherwise(col(c)))\n",
        "  print(f'{c} there is {x} rows with string n/a and {y} rows with empty string')\n"
      ]
    },
    {
      "cell_type": "code",
      "execution_count": 10,
      "metadata": {
        "colab": {
          "base_uri": "https://localhost:8080/"
        },
        "id": "Bbcb_gAVeSFu",
        "outputId": "9cc43f84-10eb-4b7e-89fe-886219df4c31"
      },
      "outputs": [
        {
          "output_type": "stream",
          "name": "stdout",
          "text": [
            "There is 2 with null\n"
          ]
        }
      ],
      "source": [
        "column=['Rating','CustomerID' ]\n",
        "for c in column:\n",
        "  df_emp = df_emp.withColumn(c, regexp_replace(col(c), '\"', ''))\n",
        "\n",
        "df_emp = df_emp.withColumn('Rating', col('Rating').cast('int'))\n",
        "null_Rating=df_emp.where(col('Rating').isNull()).count()\n",
        "print(f'There is {null_Rating} with null')"
      ]
    },
    {
      "cell_type": "code",
      "execution_count": 11,
      "metadata": {
        "colab": {
          "base_uri": "https://localhost:8080/"
        },
        "id": "rpJGBP5RmurT",
        "outputId": "4e01ae02-702c-488c-88d6-805a32b0edb6"
      },
      "outputs": [
        {
          "output_type": "stream",
          "name": "stdout",
          "text": [
            "The dataset contains 24856 customers without duplicate\n"
          ]
        }
      ],
      "source": [
        "df_emp=df_emp.where(df_emp.Rating.isNotNull())\n",
        "count=df_emp.count()\n",
        "print(f'The dataset contains {count} customers without duplicate')"
      ]
    },
    {
      "cell_type": "code",
      "execution_count": 12,
      "metadata": {
        "colab": {
          "base_uri": "https://localhost:8080/"
        },
        "id": "lhFpus7wfHxX",
        "outputId": "fc4db8fb-85dd-41ae-f18c-3b689eaeeccd"
      },
      "outputs": [
        {
          "output_type": "stream",
          "name": "stdout",
          "text": [
            "+------+-----+\n",
            "|Rating|count|\n",
            "+------+-----+\n",
            "|     1| 2449|\n",
            "|     6| 2530|\n",
            "|     3| 2491|\n",
            "|     5| 2486|\n",
            "|     9| 2529|\n",
            "|     4| 2510|\n",
            "|     8| 2409|\n",
            "|     7| 2574|\n",
            "|    10| 2347|\n",
            "|     2| 2531|\n",
            "+------+-----+\n",
            "\n"
          ]
        }
      ],
      "source": [
        "df_emp.groupBy('Rating').count().show()"
      ]
    },
    {
      "cell_type": "code",
      "execution_count": 13,
      "metadata": {
        "colab": {
          "base_uri": "https://localhost:8080/"
        },
        "id": "-kHaH8Uyrijt",
        "outputId": "7cfd1333-5476-486b-e173-df3c7c1a445c"
      },
      "outputs": [
        {
          "output_type": "stream",
          "name": "stdout",
          "text": [
            "+----------+--------------+---------------+------+--------------+\n",
            "|CustomerID|          City|          State|Rating|       Country|\n",
            "+----------+--------------+---------------+------+--------------+\n",
            "|    id7044|           nyc|       new york|     9|           usa|\n",
            "|    id7045|      stockton|     california|     5|           usa|\n",
            "|    id7046|        moscow|yukon territory|     5|        russia|\n",
            "|    id7047|         porto|         vngaia|     9|      portugal|\n",
            "|    id7048|   farnborough|          hants|     8|united kingdom|\n",
            "|    id7049|  santa monica|     california|    10|           usa|\n",
            "|    id7050|    washington|             dc|     3|           usa|\n",
            "|    id7051|       timmins|        ontario|     2|        canada|\n",
            "|    id7052|    germantown|      tennessee|    10|           usa|\n",
            "|    id7053|      albacete|      wisconsin|    10|         spain|\n",
            "|    id7054|     melbourne|       victoria|     3|     australia|\n",
            "|    id7055|    fort bragg|     california|     6|           usa|\n",
            "|    id7056|     barcelona|      barcelona|     5|         spain|\n",
            "|    id7057|    mediapolis|           iowa|     5|           usa|\n",
            "|    id7058|       calgary|        alberta|     6|        canada|\n",
            "|    id7059|   albuquerque|     new mexico|     9|           usa|\n",
            "|    id7060|    chesapeake|       virginia|     6|           usa|\n",
            "|    id7061|rio de janeiro| rio de janeiro|     8|        brazil|\n",
            "|    id7062|        weston|        Unknown|     3|       Unknown|\n",
            "|    id7063|     langhorne|   pennsylvania|     5|           usa|\n",
            "+----------+--------------+---------------+------+--------------+\n",
            "only showing top 20 rows\n",
            "\n"
          ]
        }
      ],
      "source": [
        "df_emp.show()"
      ]
    },
    {
      "cell_type": "markdown",
      "metadata": {
        "id": "jDDTM6aqYKke"
      },
      "source": [
        "# Pycountry"
      ]
    },
    {
      "cell_type": "code",
      "execution_count": 14,
      "metadata": {
        "id": "W1jNY0PCyaGL"
      },
      "outputs": [],
      "source": [
        "def findCountry(country_name):\n",
        "  try:\n",
        "    # Convert to title case to match pycountry's expectations\n",
        "    country_name_title = country_name.title()\n",
        "    # Try to find the country by name\n",
        "    country = pycountry.countries.get(name=country_name_title)\n",
        "    if country:\n",
        "        return country.name\n",
        "    # Try to find the country by alpha_3 code in uppercase\n",
        "    country = pycountry.countries.get(alpha_3=country_name.upper())\n",
        "    if country:\n",
        "        return country.name\n",
        "    country = pycountry.countries.get(official_name=country_name.upper())\n",
        "    if country:\n",
        "        return country.name\n",
        "    country = pycountry.countries.get(alpha_2=country_name.upper())\n",
        "    if country:\n",
        "        return country.name\n",
        "    country = pycountry.countries.get(common_name=country_name.upper())\n",
        "    if country:\n",
        "        return country.name\n",
        "\n",
        "    try:\n",
        "      country_fuzzy = pycountry.countries.search_fuzzy(country_name)\n",
        "      if country_fuzzy:\n",
        "        return country_fuzzy[0].name\n",
        "    except:\n",
        "      return \"Unknown\"\n",
        "\n",
        "    # If none of the lookups work, return \"Unknown\"\n",
        "    return \"Unknown\"\n",
        "  except: # Exception as e\n",
        "    return \"Unknown\"\n",
        "\n",
        "\n",
        "findCountryUDF = udf(lambda x: findCountry(x),StringType())"
      ]
    },
    {
      "cell_type": "code",
      "execution_count": 15,
      "metadata": {
        "colab": {
          "base_uri": "https://localhost:8080/"
        },
        "id": "YLmoXcXorKZB",
        "outputId": "ec0928fd-240e-4d70-c269-c9462b338f9b"
      },
      "outputs": [
        {
          "output_type": "stream",
          "name": "stdout",
          "text": [
            "+----------+--------------+---------------+------+------------------+--------------+\n",
            "|CustomerID|          City|          State|Rating|           Country|   Country_new|\n",
            "+----------+--------------+---------------+------+------------------+--------------+\n",
            "|    id7044|           nyc|       new york|     9|     United States| United States|\n",
            "|    id7045|      stockton|     california|     5|     United States| United States|\n",
            "|    id7046|        moscow|yukon territory|     5|Russian Federation|       Unknown|\n",
            "|    id7047|         porto|         vngaia|     9|          Portugal|       Unknown|\n",
            "|    id7048|   farnborough|          hants|     8|    United Kingdom|       Unknown|\n",
            "|    id7049|  santa monica|     california|    10|     United States| United States|\n",
            "|    id7050|    washington|             dc|     3|     United States|United Kingdom|\n",
            "|    id7051|       timmins|        ontario|     2|            Canada|        Canada|\n",
            "|    id7052|    germantown|      tennessee|    10|     United States| United States|\n",
            "|    id7053|      albacete|      wisconsin|    10|             Spain| United States|\n",
            "|    id7054|     melbourne|       victoria|     3|         Australia|     Australia|\n",
            "|    id7055|    fort bragg|     california|     6|     United States| United States|\n",
            "|    id7056|     barcelona|      barcelona|     5|             Spain|         Spain|\n",
            "|    id7057|    mediapolis|           iowa|     5|     United States| United States|\n",
            "|    id7058|       calgary|        alberta|     6|            Canada|        Canada|\n",
            "|    id7059|   albuquerque|     new mexico|     9|     United States| United States|\n",
            "|    id7060|    chesapeake|       virginia|     6|     United States| United States|\n",
            "|    id7061|rio de janeiro| rio de janeiro|     8|            Brazil|        Brazil|\n",
            "|    id7062|        weston|        Unknown|     3|           Unknown|       Unknown|\n",
            "|    id7063|     langhorne|   pennsylvania|     5|     United States| United States|\n",
            "+----------+--------------+---------------+------+------------------+--------------+\n",
            "only showing top 20 rows\n",
            "\n"
          ]
        }
      ],
      "source": [
        "df_emp=df_emp.select(\"CustomerID\", \"City\",'State','Rating', findCountryUDF(col(\"Country\")).alias(\"Country\"),findCountryUDF(col(\"State\")).alias(\"Country_new\"))\n",
        "df_emp.show()"
      ]
    },
    {
      "cell_type": "code",
      "execution_count": 16,
      "metadata": {
        "id": "PBrhgQTyPaLu"
      },
      "outputs": [],
      "source": [
        "df_emp = df_emp.withColumn(\n",
        "    \"Final_Country\",when(col(\"Country\") == \"Unknown\", col(\"Country_new\")).otherwise(col(\"Country\")))"
      ]
    },
    {
      "cell_type": "code",
      "execution_count": 17,
      "metadata": {
        "colab": {
          "base_uri": "https://localhost:8080/"
        },
        "id": "CIMcsSTIX2kT",
        "outputId": "58352d37-16bb-4516-b63b-ae4bb78d8001"
      },
      "outputs": [
        {
          "output_type": "stream",
          "name": "stdout",
          "text": [
            "+----------+--------------+---------------+------+------------------+\n",
            "|CustomerID|          City|          State|Rating|           Country|\n",
            "+----------+--------------+---------------+------+------------------+\n",
            "|    id7044|           nyc|       new york|     9|     United States|\n",
            "|    id7045|      stockton|     california|     5|     United States|\n",
            "|    id7046|        moscow|yukon territory|     5|Russian Federation|\n",
            "|    id7047|         porto|         vngaia|     9|          Portugal|\n",
            "|    id7048|   farnborough|          hants|     8|    United Kingdom|\n",
            "|    id7049|  santa monica|     california|    10|     United States|\n",
            "|    id7050|    washington|             dc|     3|     United States|\n",
            "|    id7051|       timmins|        ontario|     2|            Canada|\n",
            "|    id7052|    germantown|      tennessee|    10|     United States|\n",
            "|    id7053|      albacete|      wisconsin|    10|             Spain|\n",
            "|    id7054|     melbourne|       victoria|     3|         Australia|\n",
            "|    id7055|    fort bragg|     california|     6|     United States|\n",
            "|    id7056|     barcelona|      barcelona|     5|             Spain|\n",
            "|    id7057|    mediapolis|           iowa|     5|     United States|\n",
            "|    id7058|       calgary|        alberta|     6|            Canada|\n",
            "|    id7059|   albuquerque|     new mexico|     9|     United States|\n",
            "|    id7060|    chesapeake|       virginia|     6|     United States|\n",
            "|    id7061|rio de janeiro| rio de janeiro|     8|            Brazil|\n",
            "|    id7062|        weston|        Unknown|     3|           Unknown|\n",
            "|    id7063|     langhorne|   pennsylvania|     5|     United States|\n",
            "+----------+--------------+---------------+------+------------------+\n",
            "only showing top 20 rows\n",
            "\n"
          ]
        }
      ],
      "source": [
        "df_emp.createOrReplaceTempView(\"emp_table\")\n",
        "\n",
        "query = \"\"\"\n",
        "SELECT\n",
        "    CustomerID,\n",
        "    City,\n",
        "    State,\n",
        "    Rating,\n",
        "    CASE\n",
        "        WHEN Country = 'Unknown' THEN Country_new\n",
        "        ELSE Country\n",
        "    END AS Country\n",
        "FROM emp_table\n",
        "\"\"\"\n",
        "\n",
        "df_emp = spark.sql(query)\n",
        "\n",
        "df_emp.show()"
      ]
    },
    {
      "cell_type": "markdown",
      "source": [
        " **take a long time to run!!!**"
      ],
      "metadata": {
        "id": "x_vbKEwU0oEF"
      }
    },
    {
      "cell_type": "code",
      "execution_count": 18,
      "metadata": {
        "id": "1NVRVvipaVej"
      },
      "outputs": [],
      "source": [
        "x=df_emp.select('Country')\n",
        "Unknown=x.filter(\"Country='Unknown'\").count()\n",
        "# There are 384 customers with Unknown Country"
      ]
    },
    {
      "cell_type": "code",
      "execution_count": 19,
      "metadata": {
        "colab": {
          "base_uri": "https://localhost:8080/"
        },
        "id": "tvlEWCXZ8coq",
        "outputId": "adbd9549-ad91-4abc-aebe-56d6f04938b0"
      },
      "outputs": [
        {
          "output_type": "stream",
          "name": "stdout",
          "text": [
            "There are 384 customers with Unknown Country\n"
          ]
        }
      ],
      "source": [
        "print(f'There are {Unknown} customers with Unknown Country')"
      ]
    },
    {
      "cell_type": "code",
      "execution_count": 20,
      "metadata": {
        "id": "voZPSMdImDlI"
      },
      "outputs": [],
      "source": [
        "df_emp.write.csv('cleaned_churn_location_and_rating.csv', header=True)\n"
      ]
    }
  ],
  "metadata": {
    "colab": {
      "collapsed_sections": [
        "f6_D-G1fOJdP",
        "QKoQ8ve5Pe5V",
        "4BjNxOKRX4su"
      ],
      "provenance": []
    },
    "kernelspec": {
      "display_name": "Python 3",
      "language": "python",
      "name": "python3"
    },
    "language_info": {
      "codemirror_mode": {
        "name": "ipython",
        "version": 3
      },
      "file_extension": ".py",
      "mimetype": "text/x-python",
      "name": "python",
      "nbconvert_exporter": "python",
      "pygments_lexer": "ipython3",
      "version": "3.7.7"
    }
  },
  "nbformat": 4,
  "nbformat_minor": 0
}